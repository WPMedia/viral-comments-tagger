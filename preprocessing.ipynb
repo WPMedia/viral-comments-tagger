{
 "cells": [
  {
   "cell_type": "code",
   "execution_count": 18,
   "metadata": {},
   "outputs": [],
   "source": [
    "import pandas as pd\n",
    "from pandas.io.json import json_normalize\n",
    "import json\n",
    "import boto3\n",
    "import pandas as pd\n",
    "import os.path\n",
    "from os import path\n",
    "\n",
    "s3 = boto3.resource('s3')\n",
    "s3_client = boto3.client('s3')\n",
    "\n",
    "def download(bucket, data_key):\n",
    "    if path.exists(data_key):\n",
    "        print('File '+data_key+' existed.')\n",
    "        return False\n",
    "    else:\n",
    "        s3.Object(bucket, data_key).download_file(data_key)\n",
    "        print('File '+data_key+' downloaded.')\n",
    "        return True"
   ]
  },
  {
   "cell_type": "code",
   "execution_count": 20,
   "metadata": {},
   "outputs": [
    {
     "name": "stdout",
     "output_type": "stream",
     "text": [
      "mkdir: cannot create directory ‘yuy/tmp_yuy_30_mins_comments_dataset_rnn_v1/’: File exists\n",
      "File yuy/tmp_yuy_30_mins_comments_dataset_rnn_v1/000000_0 existed.\n"
     ]
    }
   ],
   "source": [
    "bucket = 'wp-dw-sandbox'\n",
    "url_prefix = 'yuy/tmp_yuy_30_mins_comments_dataset_rnn_v1/'\n",
    "!mkdir $url_prefix\n",
    "for obj in s3_client.list_objects(Bucket = bucket, Prefix = url_prefix)['Contents']:\n",
    "#     filename, file_extension = os.path.splitext(obj['Key'])\n",
    "    data_key = obj['Key']\n",
    "    if '/.' in data_key:\n",
    "        continue\n",
    "    download(bucket, data_key)"
   ]
  },
  {
   "cell_type": "code",
   "execution_count": 21,
   "metadata": {},
   "outputs": [],
   "source": [
    "# load the data\n",
    "import dask.dataframe as dd\n",
    "names = ['action_counts_dontagree','action_counts_like','action_counts_flag','action_counts_flag_banned_word','action_counts_flag_body_count','action_counts_flag_comment_noagree','action_counts_flag_comment_offensive','action_counts_flag_comment_other','action_counts_flag_comment_spam','action_counts_flag_matched_suspect_word_filter','action_counts_flag_suspect_word','action_counts_flag_trust','created_at','root_id','level','polarity_scores_compound','polarity_scores_neg','polarity_scores_neu','polarity_scores_pos','readability_flesch_kincaid_grade','readability_gunning_fog','readability_automated_readability_index','readability_coleman_liau_index','readability_sentence_count','readability_lexicon_count','readability_char_count','readability_sentence_avg_length','readability_lexicon_avg_length','created_at_day_of_week','created_at_hour_of_day','post_gap','thread_reply_count']\n",
    "df = dd.read_csv(url_prefix+'*', sep='\\01', header=None, names=names)\n",
    "df = df.compute()"
   ]
  },
  {
   "cell_type": "code",
   "execution_count": 22,
   "metadata": {},
   "outputs": [
    {
     "data": {
      "text/plain": [
       "(10369666, 66)"
      ]
     },
     "execution_count": 22,
     "metadata": {},
     "output_type": "execute_result"
    }
   ],
   "source": [
    "# category to one-hot vector\n",
    "df.shape\n",
    "columnsToEncode = pd.Series(['level', 'created_at_day_of_week', 'created_at_hour_of_day'])\n",
    "X = pd.get_dummies(df, columns=columnsToEncode)\n",
    "X.shape"
   ]
  },
  {
   "cell_type": "code",
   "execution_count": 23,
   "metadata": {},
   "outputs": [],
   "source": [
    "# housekeeping\n",
    "X = X.drop(['created_at'], axis=1)\n",
    "X = X.reindex(columns=(['thread_reply_count'] + list([a for a in X.columns if a != 'thread_reply_count']) ))\n",
    "X = X.reindex(columns=(['root_id'] + list([a for a in X.columns if a != 'root_id']) ))"
   ]
  },
  {
   "cell_type": "code",
   "execution_count": 24,
   "metadata": {},
   "outputs": [
    {
     "name": "stderr",
     "output_type": "stream",
     "text": [
      "/home/ec2-user/anaconda3/envs/pytorch_p36/lib/python3.6/site-packages/sklearn/preprocessing/data.py:334: DataConversionWarning: Data with input dtype bool, uint8, int64, float64 were all converted to float64 by MinMaxScaler.\n",
      "  return self.partial_fit(X, y)\n"
     ]
    }
   ],
   "source": [
    "# normalization\n",
    "from sklearn import preprocessing\n",
    "scaler = preprocessing.MinMaxScaler()\n",
    "cl = X.columns.values\n",
    "cl = filter(lambda c: c != 'root_id' and c != 'thread_reply_count', cl)\n",
    "cl = list(cl)\n",
    "X[cl] = scaler.fit_transform(X[cl])"
   ]
  },
  {
   "cell_type": "code",
   "execution_count": 25,
   "metadata": {},
   "outputs": [],
   "source": [
    "# for group,x in X.groupby('root_id'):\n",
    "#     print(group)\n",
    "#     print(x.values[0,1])\n",
    "#     break\n",
    "import numpy as np\n",
    "data_x = [x.values[:,2:] for group,x in X.groupby('root_id')]\n",
    "data_y = [x.values[0,1] for group,x in X.groupby('root_id')]"
   ]
  },
  {
   "cell_type": "code",
   "execution_count": 14,
   "metadata": {},
   "outputs": [
    {
     "data": {
      "image/png": "[encoded data removed]",
      "text/plain": [
       "<Figure size 432x288 with 1 Axes>"
      ]
     },
     "metadata": {},
     "output_type": "display_data"
    }
   ],
   "source": [
    "lens = [len(l) for l in data_x]\n",
    "import matplotlib.pyplot as plt\n",
    "plt.hist(lens, bins=max(lens))\n",
    "plt.ylabel('Length');\n",
    "plt.show()"
   ]
  },
  {
   "cell_type": "code",
   "execution_count": 29,
   "metadata": {},
   "outputs": [],
   "source": [
    "# pad and keep the first n replies in each thread\n",
    "def padding_series(ll, max_len):\n",
    "    for i in range(len(ll)):\n",
    "        if len(ll[i]) >= max_len:\n",
    "            ll[i] = ll[i][:max_len]\n",
    "        else:\n",
    "            pads = [[0 for j in range(len(ll[i][0]))] for i in range(max_len-len(ll[i]))]\n",
    "            ll[i] = np.concatenate((ll[i], pads), axis=0)\n",
    "\n",
    "padding_series(data_x, 20)"
   ]
  },
  {
   "cell_type": "code",
   "execution_count": 26,
   "metadata": {},
   "outputs": [
    {
     "data": {
      "image/png": "[encoded data removed]",
      "text/plain": [
       "<Figure size 432x288 with 1 Axes>"
      ]
     },
     "metadata": {},
     "output_type": "display_data"
    }
   ],
   "source": [
    "import matplotlib.pyplot as plt\n",
    "plt.hist(data_y, bins=int(max(data_y)))\n",
    "plt.ylabel('Popularity');\n",
    "plt.show()"
   ]
  },
  {
   "cell_type": "code",
   "execution_count": 27,
   "metadata": {},
   "outputs": [],
   "source": [
    "k = 40\n",
    "data_y = [1 if y >= k else y/k for y in data_y]"
   ]
  },
  {
   "cell_type": "code",
   "execution_count": 28,
   "metadata": {},
   "outputs": [],
   "source": [
    "data_x = np.array(data_x, dtype='float32')\n",
    "data_y = np.array(data_y, dtype='float32')"
   ]
  },
  {
   "cell_type": "code",
   "execution_count": 29,
   "metadata": {},
   "outputs": [],
   "source": [
    "np.save('data_x', data_x)\n",
    "np.save('data_y', data_y)"
   ]
  }
 ],
 "metadata": {
  "kernelspec": {
   "display_name": "conda_pytorch_p36",
   "language": "python",
   "name": "conda_pytorch_p36"
  },
  "language_info": {
   "codemirror_mode": {
    "name": "ipython",
    "version": 3
   },
   "file_extension": ".py",
   "mimetype": "text/x-python",
   "name": "python",
   "nbconvert_exporter": "python",
   "pygments_lexer": "ipython3",
   "version": "3.6.5"
  }
 },
 "nbformat": 4,
 "nbformat_minor": 2
}
